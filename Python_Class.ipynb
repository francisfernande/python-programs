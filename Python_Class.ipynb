{
  "nbformat": 4,
  "nbformat_minor": 0,
  "metadata": {
    "colab": {
      "provenance": [],
      "authorship_tag": "ABX9TyO0rSMXO6MJhEUzz7V04OkB",
      "include_colab_link": true
    },
    "kernelspec": {
      "name": "python3",
      "display_name": "Python 3"
    },
    "language_info": {
      "name": "python"
    }
  },
  "cells": [
    {
      "cell_type": "markdown",
      "metadata": {
        "id": "view-in-github",
        "colab_type": "text"
      },
      "source": [
        "<a href=\"https://colab.research.google.com/github/francisfernande/python-programs/blob/main/Python_Class.ipynb\" target=\"_parent\"><img src=\"https://colab.research.google.com/assets/colab-badge.svg\" alt=\"Open In Colab\"/></a>"
      ]
    },
    {
      "cell_type": "code",
      "execution_count": 1,
      "metadata": {
        "id": "q857OWYHv2OM"
      },
      "outputs": [],
      "source": [
        "#todo list"
      ]
    },
    {
      "cell_type": "code",
      "source": [
        "class Todo_list:\n",
        "  def __init__(self,owner):\n",
        "    self.owner = owner\n",
        "    self.task = []\n",
        "\n",
        "  def add_task(self,task):\n",
        "    self.task.append(task)\n",
        "\n",
        "  def remove_task(self,task):\n",
        "    if task in self.task:\n",
        "      self.task.remove(task)\n",
        "      print(f\"task removed '{task}' completed \")\n",
        "    else:\n",
        "      print(\"task not found\")\n",
        "  def view_task(self):\n",
        "    print(f\"the todo is '{self.owner}'\")\n",
        "    for task in self.task:\n",
        "      print(task)"
      ],
      "metadata": {
        "id": "sgsZifEJv9xH"
      },
      "execution_count": 15,
      "outputs": []
    },
    {
      "cell_type": "code",
      "source": [
        "francis = Todo_list(\"francis\")"
      ],
      "metadata": {
        "id": "HRDuVpjBxBd1"
      },
      "execution_count": 16,
      "outputs": []
    },
    {
      "cell_type": "code",
      "source": [
        "francis.task"
      ],
      "metadata": {
        "id": "j2KjZOzdxiaF",
        "outputId": "33c94093-b38b-4def-c9d7-697fba9af709",
        "colab": {
          "base_uri": "https://localhost:8080/"
        }
      },
      "execution_count": 17,
      "outputs": [
        {
          "output_type": "execute_result",
          "data": {
            "text/plain": [
              "[]"
            ]
          },
          "metadata": {},
          "execution_count": 17
        }
      ]
    },
    {
      "cell_type": "code",
      "source": [
        "francis.add_task(\"I have to go to school\")"
      ],
      "metadata": {
        "id": "BhApqMuCxBgM"
      },
      "execution_count": 18,
      "outputs": []
    },
    {
      "cell_type": "code",
      "source": [
        "francis.view_task()"
      ],
      "metadata": {
        "colab": {
          "base_uri": "https://localhost:8080/"
        },
        "id": "Zvfq3F2YxBiX",
        "outputId": "5f60537b-b29f-44a2-f219-10e8f4dd342f"
      },
      "execution_count": 20,
      "outputs": [
        {
          "output_type": "stream",
          "name": "stdout",
          "text": [
            "the todo is 'francis'\n",
            "I have to go to school\n"
          ]
        }
      ]
    },
    {
      "cell_type": "code",
      "source": [
        "francis.remove_task(\"I have to go to schoo\")"
      ],
      "metadata": {
        "colab": {
          "base_uri": "https://localhost:8080/"
        },
        "id": "V_840qetxBkz",
        "outputId": "5d3ab809-c707-400f-c84d-1cbc5cf744f5"
      },
      "execution_count": 21,
      "outputs": [
        {
          "output_type": "stream",
          "name": "stdout",
          "text": [
            "task not found\n"
          ]
        }
      ]
    },
    {
      "cell_type": "code",
      "source": [
        "francis.view_task()"
      ],
      "metadata": {
        "colab": {
          "base_uri": "https://localhost:8080/"
        },
        "id": "00Kwgn5txBnN",
        "outputId": "57f48c9c-880c-4add-f9a5-34945b96f70c"
      },
      "execution_count": 22,
      "outputs": [
        {
          "output_type": "stream",
          "name": "stdout",
          "text": [
            "the todo is 'francis'\n",
            "I have to go to school\n"
          ]
        }
      ]
    },
    {
      "cell_type": "code",
      "source": [],
      "metadata": {
        "id": "sdH6Fax-xBpp"
      },
      "execution_count": null,
      "outputs": []
    }
  ]
}